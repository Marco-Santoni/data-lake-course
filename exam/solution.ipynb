{
 "cells": [
  {
   "cell_type": "markdown",
   "metadata": {},
   "source": [
    "## Parte 1"
   ]
  },
  {
   "cell_type": "code",
   "execution_count": 39,
   "metadata": {},
   "outputs": [],
   "source": [
    "import shutil\n",
    "import os\n",
    "\n",
    "table_dir = \"rizzoli_warehouse\"\n",
    "\n",
    "if os.path.exists(table_dir):\n",
    "    shutil.rmtree(table_dir)\n",
    "\n",
    "os.makedirs(table_dir, exist_ok=True)"
   ]
  },
  {
   "cell_type": "code",
   "execution_count": 40,
   "metadata": {},
   "outputs": [],
   "source": [
    "from pyiceberg.catalog.sql import SqlCatalog\n",
    "\n",
    "warehouse_path = os.path.abspath(f\"./{table_dir}\")\n",
    "catalog = SqlCatalog(\n",
    "    \"acme_corp\",\n",
    "    **{\n",
    "        \"uri\": f\"sqlite:///{warehouse_path}/pyiceberg_catalog.db\",\n",
    "        \"warehouse\": f\"file://{warehouse_path}\",\n",
    "    },\n",
    ")"
   ]
  },
  {
   "cell_type": "code",
   "execution_count": 41,
   "metadata": {},
   "outputs": [],
   "source": [
    "catalog.create_namespace(\"registry\")"
   ]
  },
  {
   "cell_type": "markdown",
   "metadata": {},
   "source": [
    "## Parte 2"
   ]
  },
  {
   "cell_type": "code",
   "execution_count": 42,
   "metadata": {},
   "outputs": [],
   "source": [
    "from pyiceberg.schema import Schema\n",
    "from pyiceberg.types import NestedField, StringType, LongType, DateType\n",
    "\n",
    "schema = Schema(\n",
    "    NestedField(field_id=1, name=\"id\", field_type=LongType(), required=False),\n",
    "    NestedField(field_id=1, name=\"name\", field_type=StringType(), required=False),\n",
    "    NestedField(field_id=1, name=\"hire_date\", field_type=DateType(), required=False),\n",
    ")\n",
    "\n",
    "table = catalog.create_table(\"registry.employees\", schema)"
   ]
  },
  {
   "cell_type": "code",
   "execution_count": 43,
   "metadata": {},
   "outputs": [
    {
     "name": "stderr",
     "output_type": "stream",
     "text": [
      "/Users/marcosantoni/miniconda3/envs/data_file_formats/lib/python3.12/site-packages/pyiceberg/utils/deprecated.py:54: DeprecationWarning: Deprecated in 0.8.0, will be removed in 0.9.0. Table.identifier property is deprecated. Please use Table.name() function instead.\n",
      "  _deprecation_warning(deprecation_notice(deprecated_in, removed_in, help_message))\n",
      "/Users/marcosantoni/miniconda3/envs/data_file_formats/lib/python3.12/site-packages/pyiceberg/utils/deprecated.py:54: DeprecationWarning: Deprecated in 0.8.0, will be removed in 0.9.0. Support for parsing catalog level identifier in Catalog identifiers is deprecated. Please refer to the table using only its namespace and its table name.\n",
      "  _deprecation_warning(deprecation_notice(deprecated_in, removed_in, help_message))\n",
      "/Users/marcosantoni/miniconda3/envs/data_file_formats/lib/python3.12/site-packages/pyiceberg/utils/deprecated.py:54: DeprecationWarning: Deprecated in 0.8.0, will be removed in 0.9.0. Table.identifier property is deprecated. Please use Table.name() function instead.\n",
      "  _deprecation_warning(deprecation_notice(deprecated_in, removed_in, help_message))\n"
     ]
    }
   ],
   "source": [
    "import pyarrow as pa\n",
    "from datetime import date\n",
    "data = [\n",
    "    {\"id\": 1, \"name\": \"Alice\", \"hire_date\": date(2020, 1, 1)},\n",
    "    {\"id\": 2, \"name\": \"Bob\", \"hire_date\": date(2020, 1, 2)},\n",
    "    {\"id\": 3, \"name\": \"Charlie\", \"hire_date\": date(2020, 1, 3)},\n",
    "]\n",
    "# Create a PyArrow Table from the list of dictionaries\n",
    "arrow_table = pa.Table.from_pylist(data)\n",
    "\n",
    "table.append(arrow_table)"
   ]
  },
  {
   "cell_type": "markdown",
   "metadata": {},
   "source": [
    "## Parte 3"
   ]
  },
  {
   "cell_type": "code",
   "execution_count": 44,
   "metadata": {},
   "outputs": [
    {
     "name": "stderr",
     "output_type": "stream",
     "text": [
      "/Users/marcosantoni/miniconda3/envs/data_file_formats/lib/python3.12/site-packages/pyiceberg/avro/decoder.py:185: UserWarning: Falling back to pure Python Avro decoder, missing Cython implementation\n",
      "  warnings.warn(\"Falling back to pure Python Avro decoder, missing Cython implementation\")\n",
      "/Users/marcosantoni/miniconda3/envs/data_file_formats/lib/python3.12/site-packages/pyiceberg/utils/deprecated.py:54: DeprecationWarning: Deprecated in 0.8.0, will be removed in 0.9.0. Table.identifier property is deprecated. Please use Table.name() function instead.\n",
      "  _deprecation_warning(deprecation_notice(deprecated_in, removed_in, help_message))\n",
      "/Users/marcosantoni/miniconda3/envs/data_file_formats/lib/python3.12/site-packages/pyiceberg/utils/deprecated.py:54: DeprecationWarning: Deprecated in 0.8.0, will be removed in 0.9.0. Support for parsing catalog level identifier in Catalog identifiers is deprecated. Please refer to the table using only its namespace and its table name.\n",
      "  _deprecation_warning(deprecation_notice(deprecated_in, removed_in, help_message))\n",
      "/Users/marcosantoni/miniconda3/envs/data_file_formats/lib/python3.12/site-packages/pyiceberg/utils/deprecated.py:54: DeprecationWarning: Deprecated in 0.8.0, will be removed in 0.9.0. Table.identifier property is deprecated. Please use Table.name() function instead.\n",
      "  _deprecation_warning(deprecation_notice(deprecated_in, removed_in, help_message))\n"
     ]
    }
   ],
   "source": [
    "data = [\n",
    "    {\"id\": 4, \"name\": \"David\", \"hire_date\": date(2020, 1, 4)},\n",
    "    {\"id\": 5, \"name\": \"Eve\", \"hire_date\": date(2020, 1, 5)},\n",
    "]\n",
    "# Create a PyArrow Table from the list of dictionaries\n",
    "arrow_table = pa.Table.from_pylist(data)\n",
    "\n",
    "table.append(arrow_table)"
   ]
  },
  {
   "cell_type": "code",
   "execution_count": 45,
   "metadata": {},
   "outputs": [
    {
     "name": "stdout",
     "output_type": "stream",
     "text": [
      "2\n"
     ]
    }
   ],
   "source": [
    "from pyiceberg.table import Table\n",
    "\n",
    "def count_table_snapshots(table: Table) -> int:\n",
    "    return len(table.snapshots())\n",
    "\n",
    "print(count_table_snapshots(table))"
   ]
  },
  {
   "cell_type": "markdown",
   "metadata": {},
   "source": [
    "## Parte 4"
   ]
  },
  {
   "cell_type": "code",
   "execution_count": 46,
   "metadata": {},
   "outputs": [
    {
     "name": "stdout",
     "output_type": "stream",
     "text": [
      "3\n"
     ]
    }
   ],
   "source": [
    "def rows_at_second_last_snapshot(table: Table) -> int:\n",
    "    \"\"\" table: pyicerbeg Table object\n",
    "    return: number of rows in the second last snapshot of the table\n",
    "    \"\"\"\n",
    "    snapshots = table.snapshots()\n",
    "    second_last_snapshot_id = snapshots[-2].snapshot_id\n",
    "    return table.scan(snapshot_id=second_last_snapshot_id).to_arrow().shape[0]\n",
    "\n",
    "print(rows_at_second_last_snapshot(table))"
   ]
  }
 ],
 "metadata": {
  "kernelspec": {
   "display_name": "data_file_formats",
   "language": "python",
   "name": "python3"
  },
  "language_info": {
   "codemirror_mode": {
    "name": "ipython",
    "version": 3
   },
   "file_extension": ".py",
   "mimetype": "text/x-python",
   "name": "python",
   "nbconvert_exporter": "python",
   "pygments_lexer": "ipython3",
   "version": "3.12.2"
  }
 },
 "nbformat": 4,
 "nbformat_minor": 2
}
